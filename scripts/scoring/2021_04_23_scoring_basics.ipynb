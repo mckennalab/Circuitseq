{
 "cells": [
  {
   "cell_type": "markdown",
   "metadata": {},
   "source": [
    "### Scoring alignments\n",
    "\n",
    "Previous steps include MARS to orient the sequences in a consistent way, extracting the reference into a separate file, and \n",
    "needleall to align the sequences to the reference. For example:\n",
    "\n",
    "\n"
   ]
  },
  {
   "cell_type": "raw",
   "metadata": {},
   "source": [
    "needleall -asequence Tn5_001_withSanger.mars.reference.fasta -bsequence Tn5_001_withSanger.mars.fasta -gapopen 10 -gapextend 0.5 -aformat fasta -outfile test.fasta\n"
   ]
  },
  {
   "cell_type": "markdown",
   "metadata": {},
   "source": [
    "At the end we have a test.fasta with interleaved alignment pairs, the first is the reference and the second is the aligned sequence"
   ]
  },
  {
   "cell_type": "markdown",
   "metadata": {},
   "source": [
    "### Some helper functions we'll need"
   ]
  },
  {
   "cell_type": "code",
   "execution_count": 32,
   "metadata": {},
   "outputs": [
    {
     "name": "stdout",
     "output_type": "stream",
     "text": [
      "(2, 28, 122.0, 28)\n",
      "(0, 28, 140.0, 28)\n",
      "(3, 28, 126.5, 28)\n"
     ]
    }
   ],
   "source": [
    "def edit_distance(string1, string2):\n",
    "    # this is very basic -- I think we'll want to improve this to deal with indels a bit better\n",
    "    return sum([1 if base1 != base2 else 0 for base1,base2 in zip(string1,string2)])\n",
    "\n",
    "def affine_scoring(string1,string2,match_cost=5.0,mismatch_cost=-4.0,gap_open_cost=-10.0,gap_extend_cost=0.5):\n",
    "    \"\"\"\n",
    "    A more fancy approach: take the alignments and score with an affine gap penality approach; matches and mismatches\n",
    "    have a set cost, but gaps have a cost to open and a cost to extend. We don't allow for both to be gaps (don't make\n",
    "    sense), or for the aligner to switch from an deletion on one strand to another strand (rare, generally nonsense)\n",
    "    \"\"\"\n",
    "    assert(len(string1) == len(string2))\n",
    "    total_score = 0\n",
    "    in_gap = None\n",
    "    for base1,base2 in zip(string1,string2):\n",
    "        if base1 == base2:\n",
    "            total_score += match_cost\n",
    "            in_gap = None\n",
    "        elif base1 == '-' and base2 != '-':\n",
    "            assert(in_gap != 'string2')\n",
    "            if in_gap == 'string1':\n",
    "                total_score += gap_extend_cost\n",
    "            else: \n",
    "                total_score += gap_extend_cost\n",
    "                in_gap = 'string1'\n",
    "        elif base1 != '-' and base2 == '-':\n",
    "            assert(in_gap != 'string1')\n",
    "            if in_gap == 'string2':\n",
    "                total_score += gap_extend_cost\n",
    "            else: \n",
    "                total_score += gap_extend_cost\n",
    "                in_gap = 'string2'\n",
    "        elif base1 != base2:\n",
    "            total_score += mismatch_cost\n",
    "            in_gap = None\n",
    "        else:\n",
    "            assert(1 == 0) # we shouldn't be here...\n",
    "    return(total_score)\n",
    "\n",
    "def trim_to_minimal_size(string1, string2):\n",
    "    \"\"\"Find the minimum substring of two inputs where the maximal contiguous stretch of dashes is removed\"\"\"\n",
    "    assert(len(string1) == len(string2))\n",
    "    string1_lstrip = string1.lstrip(\"-\")\n",
    "    string1_size = len(string1_lstrip)\n",
    "    \n",
    "    string2_lstrip = string2.lstrip(\"-\")\n",
    "    string2_size = len(string2_lstrip)\n",
    "    \n",
    "    # we cut the longer string down to the same size as the smaller string\n",
    "    if string1_size > string2_size:\n",
    "        string1_lstrip = string1[(len(string2) - string2_size):len(string1)]\n",
    "    else:\n",
    "        string2_lstrip = string2[(len(string1) - string1_size):len(string2)]\n",
    "    \n",
    "    string1_rstrip = string1_lstrip.rstrip(\"-\")\n",
    "    string1_size = len(string1_rstrip)\n",
    "    \n",
    "    string2_rstrip = string2_lstrip.rstrip(\"-\")\n",
    "    string2_size = len(string2_rstrip)\n",
    "    \n",
    "    # again we cut the longer string down to the same size as the smaller string, just from the right\n",
    "    if string1_size > string2_size:\n",
    "        string1_rstrip = string1_rstrip[0:string2_size]\n",
    "    else:\n",
    "        string2_rstrip = string2_rstrip[0:string1_size]\n",
    "        \n",
    "    return((string1_rstrip,string2_rstrip))\n",
    "\n",
    "def score_aligned_segment(string1,string2):\n",
    "    minimal_overlaps = trim_to_minimal_size(string1.upper(), string2.upper())\n",
    "    return(edit_distance(minimal_overlaps[0],minimal_overlaps[1]),len(minimal_overlaps[0]),\n",
    "           affine_scoring(minimal_overlaps[0],minimal_overlaps[1]),len(minimal_overlaps[0]))\n",
    "    \n",
    "# a little test\n",
    "print(score_aligned_segment(\"ACGTACGTACGTACGTACGTACGTACGTACGTACGTACGTACGT\",\"------------ACGgACGTACGTACcTACGTACGTACGT----\"))\n",
    "print(score_aligned_segment(\"ACGTACGTACGTACGTACGTACGTACGTACGTACGTACGTACGT\",\"------------ACGTACGTACGTACGTACGTACGTACGT----\"))\n",
    "print(score_aligned_segment(\"ACGTACGTACGTACGTACGTACGTACGTACGTACGTACGTACGT\",\"------------ACGT---TACGTACGTACGTACGTACGT----\"))"
   ]
  },
  {
   "cell_type": "markdown",
   "metadata": {},
   "source": [
    "### Now lets read in the file and see how the each sequences scores\n",
    "\n",
    "We'll assume the reference is the first FASTA entry"
   ]
  },
  {
   "cell_type": "code",
   "execution_count": 35,
   "metadata": {},
   "outputs": [
    {
     "name": "stdout",
     "output_type": "stream",
     "text": [
      "pY026\tmedaka\t2\t9770\t0.00020470829068577277\t4.998157625383828\n",
      "pY026\tpilon\t5\t9770\t0.0005117707267144319\t4.996775844421699\n",
      "pY026\tSanger_Tn5_001\t46\t1105\t0.0416289592760181\t4.800452488687783\n"
     ]
    }
   ],
   "source": [
    "from Bio import SeqIO\n",
    "\n",
    "records = list(SeqIO.parse(\"test.fasta\", \"fasta\"))\n",
    "\n",
    "# needleall has a weird \n",
    "for i in range(0,len(records),2):\n",
    "    scored = score_aligned_segment(records[i].seq,records[i+1].seq)\n",
    "    print(records[i].id + \"\\t\" + records[i+1].id + \"\\t\" + \n",
    "          str(scored[0]) + \"\\t\" + str(scored[1]) + \"\\t\" + \n",
    "          str(scored[0]/float(scored[1])) + \"\\t\" + str(scored[2]/float(scored[3])))"
   ]
  },
  {
   "cell_type": "code",
   "execution_count": null,
   "metadata": {},
   "outputs": [],
   "source": []
  }
 ],
 "metadata": {
  "kernelspec": {
   "display_name": "Python 3",
   "language": "python",
   "name": "python3"
  },
  "language_info": {
   "codemirror_mode": {
    "name": "ipython",
    "version": 3
   },
   "file_extension": ".py",
   "mimetype": "text/x-python",
   "name": "python",
   "nbconvert_exporter": "python",
   "pygments_lexer": "ipython3",
   "version": "3.6.10"
  }
 },
 "nbformat": 4,
 "nbformat_minor": 4
}
