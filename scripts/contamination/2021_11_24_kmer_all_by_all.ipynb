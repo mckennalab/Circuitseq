{
 "cells": [
  {
   "cell_type": "code",
   "execution_count": 18,
   "id": "22763466-dba7-4bfc-829b-f1ae8613a8be",
   "metadata": {},
   "outputs": [],
   "source": [
    "def fasta_to_kmer(fasta_file,kmer_size=20):\n",
    "    fasta = open(fasta_file)\n",
    "    header = fasta.readline()\n",
    "    ref = \"\"\n",
    "    for line in fasta:\n",
    "        ref += line.strip().upper()\n",
    "    kmers = {ref[i:i+kmer_size]:True for i in range(0,len(ref) - kmer_size)}\n",
    "    return(kmers)\n",
    "\n",
    "all_kmers = {}\n",
    "kmer_size = 20\n",
    "plasmids = open(\"all_plasmids.txt\")\n",
    "for line in plasmids:\n",
    "    name = line.strip().split(\".\")[0].split(\"_\")[1]\n",
    "    #print(name)\n",
    "    kmers = fasta_to_kmer(\"plasmids_blue_flame/\" + line.strip(),kmer_size)\n",
    "    all_kmers[name] = kmers\n",
    "    "
   ]
  },
  {
   "cell_type": "code",
   "execution_count": 19,
   "id": "e92034cb-ee6b-44bd-b8f4-9d587be400b9",
   "metadata": {},
   "outputs": [],
   "source": [
    "for key,kmers in all_kmers.items():\n",
    "    rest = {i:all_kmers[i] for i in all_kmers if i!=key}\n",
    "    shared = 0\n",
    "    total = 0\n",
    "    for key2,kmers2 in rest.items():\n",
    "        shared_subset = len(kmers.keys() & kmers2.keys())\n",
    "        total_subset = len(kmers.keys() | kmers2.keys())\n",
    "        shared += shared_subset\n",
    "        total += total_subset"
   ]
  },
  {
   "cell_type": "code",
   "execution_count": 17,
   "id": "b26b053e-6ade-4b60-b0eb-d13dc035d4f7",
   "metadata": {},
   "outputs": [
    {
     "name": "stdout",
     "output_type": "stream",
     "text": [
      "311720\n",
      "1977988\n",
      "0.1575944849008184\n"
     ]
    }
   ],
   "source": [
    "print(shared)\n",
    "print(total)\n",
    "print(shared/total)"
   ]
  },
  {
   "cell_type": "code",
   "execution_count": 20,
   "id": "e77c02d1-6f28-4604-b604-b3ff3e5a1314",
   "metadata": {},
   "outputs": [
    {
     "name": "stdout",
     "output_type": "stream",
     "text": [
      "309306\n",
      "1986856\n",
      "0.15567610335122425\n"
     ]
    }
   ],
   "source": [
    "print(shared)\n",
    "print(total)\n",
    "print(shared/total)"
   ]
  },
  {
   "cell_type": "code",
   "execution_count": null,
   "id": "31f84744-403e-40a6-a01f-cc5fed1f1e33",
   "metadata": {},
   "outputs": [],
   "source": []
  }
 ],
 "metadata": {
  "kernelspec": {
   "display_name": "Python 3 (ipykernel)",
   "language": "python",
   "name": "python3"
  },
  "language_info": {
   "codemirror_mode": {
    "name": "ipython",
    "version": 3
   },
   "file_extension": ".py",
   "mimetype": "text/x-python",
   "name": "python",
   "nbconvert_exporter": "python",
   "pygments_lexer": "ipython3",
   "version": "3.9.5"
  }
 },
 "nbformat": 4,
 "nbformat_minor": 5
}
