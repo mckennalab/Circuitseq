{
 "cells": [
  {
   "cell_type": "code",
   "execution_count": 39,
   "id": "fd61f5a1-083d-4d9d-bc0f-aa00a3522caf",
   "metadata": {},
   "outputs": [],
   "source": [
    "# data files for assessing plasmid length\n",
    "base_directory = \"/analysis/2021_07_12_PlasmidSeq_publication_96xr941/PlasmidSeq\"\n",
    "barcoding_summary_file = \"/analysis/2021_07_12_PlasmidSeq_publication_96xr941/PlasmidSeq/pipelines/results/guppy_demultiplex/saved_data/barcoding_summary.txt\"\n",
    "read_sequencing_file = \"/analysis/2021_07_12_PlasmidSeq_publication_96xr941/PlasmidSeq/pipelines/results/guppy/basecalling/sequencing_summary.txt\"\n",
    "sample_sheet = \"/analysis/2021_07_12_PlasmidSeq_publication_96xr941/PlasmidSeq/pipelines/fex_117_sample_sheet.tsv\"\n",
    "\n",
    "output_sample_sheet = \"/analysis/2021_08_26_PlasmidSeq_paper/fex_117_sample_sheet_with_annotations.tsv\"\n",
    "output_read_lengths = \"/analysis/2021_08_26_PlasmidSeq_paper/fex_117_read_lengths.tsv\""
   ]
  },
  {
   "cell_type": "code",
   "execution_count": 37,
   "id": "8f7c6e2e-4a93-4d37-a55f-1c4e26ec0a4a",
   "metadata": {},
   "outputs": [],
   "source": [
    "import scipy\n",
    "\n",
    "# load up the sample sheet, and extract a mapping of barcode ID to a tuple with (plasmid_name,reference_sequence,reference_size)\n",
    "barcode_fasta_sizes = {}\n",
    "\n",
    "def gc_content(string):\n",
    "    gcs = sum([1 if x == 'G' or x == 'C' else 0 for x in string.upper()])\n",
    "    return(float(gcs)/float(len(string)))\n",
    "\n",
    "def base_to_index(base):\n",
    "    if base == 'A' or base == 'a':\n",
    "        return 0\n",
    "    elif base == 'C' or base == 'c':\n",
    "        return 1\n",
    "    elif base == 'G' or base == 'g':\n",
    "        return 2\n",
    "    elif base == 'T' or base == 't':\n",
    "        return 3\n",
    "    return 4\n",
    "\n",
    "def count_bases(string):\n",
    "    counts = [0,0,0,0,0]\n",
    "    for x in string:\n",
    "        counts[base_to_index(x)] = counts[base_to_index(x)] + 1\n",
    "    return(counts[0:4]) # drop the Ns from our comp.\n",
    "    \n",
    "def calc_entropy(string):\n",
    "    counts = count_bases(string)\n",
    "    return(scipy.special.entr([x/sum(counts) if x > 0 else 0.0 for x in counts]).sum())\n",
    "\n",
    "def kmer_complexity(string,kmer_size=10):\n",
    "    kmers = {}\n",
    "    entropies = []\n",
    "    for i in range(0,len(string) - kmer_size):\n",
    "        kmer = string[i:i+kmer_size]\n",
    "        kmers[kmer] = kmers.get(kmer,0) + 1\n",
    "        entropies.append(calc_entropy(kmer))\n",
    "    return(len(kmers),float(sum(entropies))/float(len(entropies)))\n",
    "\n",
    "output_sheet = open(output_sample_sheet,\"w\")\n",
    "\n",
    "with open(sample_sheet) as file: \n",
    "    header = file.readline().strip(\"\\n\")\n",
    "    output_sheet.write(\"\\t\".join(header.split(\"\\t\")[0:3]) + \"\\tbarcodeID\\tlength\\tgcPercentage\\tkmerCount\\taverageEntropy\\n\")\n",
    "    for line in file:\n",
    "        sp = line.strip(\"\\n\").split(\"\\t\")\n",
    "        barcode = int(sp[0])\n",
    "        name = sp[1]\n",
    "        fasta = sp[2]\n",
    "        fasta_seq = \"\"\n",
    "        with open(fasta) as fasta_file: \n",
    "            fasta_header = fasta_file.readline()\n",
    "            for fasta_line in fasta_file:\n",
    "                fasta_seq = fasta_seq + fasta_line.strip(\"\\n\")\n",
    "        fasta_length = len(fasta_seq)\n",
    "        gc_pct = gc_content(fasta_seq)\n",
    "        kmer_compl = kmer_complexity(fasta_seq)\n",
    "        barcode_fasta_sizes[barcode] = (name,fasta_seq,fasta_length)\n",
    "        output_sheet.write(line.strip(\"\\n\").strip(\"\\t\") + \"\\tbarcode\" + (str(barcode).rjust(2, '0')) + \"\\t\" + str(fasta_length) + \"\\t\" + str(gc_pct) + \"\\t\" + \"\\t\".join([str(x) for x in kmer_compl]) + \"\\n\")\n",
    "\n",
    "output_sheet.close()"
   ]
  },
  {
   "cell_type": "code",
   "execution_count": 40,
   "id": "23fd6361-ce7c-4392-ac56-d1de4c033b1a",
   "metadata": {},
   "outputs": [],
   "source": [
    "# find the lengths of all the corrected reads\n",
    "# /analysis/2021_07_12_PlasmidSeq_publication_96xr941/PlasmidSeq/pipelines/results/canu/01_canu_correct/reads.correctedReads.fasta.gz\n",
    "\n",
    "import gzip\n",
    "filtered_read_output = open(output_read_lengths,\"w\")\n",
    "filtered_read_output.write(\"barcode\\twell\\treadlength\\n\")\n",
    "\n",
    "base_start = \"/analysis/2021_07_12_PlasmidSeq_publication_96xr941/PlasmidSeq/pipelines/results/canu/\"\n",
    "base_end = \"_canu_correct/reads.correctedReads.fasta.gz\"\n",
    "for i in range (1,97):\n",
    "    filtered_reads = base_start + str(i).rjust(2, '0') + base_end\n",
    "    with gzip.open(filtered_reads,'rt') as f:\n",
    "        for line in f:\n",
    "            if not line.startswith(\">\"):\n",
    "                filtered_read_output.write(str(i) + \"\\tbarcode\" + str(i).rjust(2, '0') + \"\\t\" + str(len(line)) + \"\\n\")\n",
    "\n",
    "filtered_read_output.close()\n",
    "    "
   ]
  },
  {
   "cell_type": "code",
   "execution_count": null,
   "id": "9f2e5beb-5834-46fb-a06d-c5e462551655",
   "metadata": {},
   "outputs": [],
   "source": [
    "# find the lengths "
   ]
  }
 ],
 "metadata": {
  "kernelspec": {
   "display_name": "Python 3",
   "language": "python",
   "name": "python3"
  },
  "language_info": {
   "codemirror_mode": {
    "name": "ipython",
    "version": 3
   },
   "file_extension": ".py",
   "mimetype": "text/x-python",
   "name": "python",
   "nbconvert_exporter": "python",
   "pygments_lexer": "ipython3",
   "version": "3.8.8"
  }
 },
 "nbformat": 4,
 "nbformat_minor": 5
}
