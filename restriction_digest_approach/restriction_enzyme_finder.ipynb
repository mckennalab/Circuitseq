{
 "cells": [
  {
   "cell_type": "code",
   "execution_count": 1,
   "metadata": {},
   "outputs": [],
   "source": [
    "import re"
   ]
  },
  {
   "cell_type": "code",
   "execution_count": 236,
   "metadata": {},
   "outputs": [
    {
     "name": "stdout",
     "output_type": "stream",
     "text": [
      "(?P<front>\\([\\-\\d/]*\\))*(?P<split1>[ACGTURYKMSWBDHVN]*)(?P<divided>[/])*(?P<split2>[ACGTURYKMSWBDHVN]*)(?P<back>\\([\\-\\d/]*\\))*\n"
     ]
    },
    {
     "data": {
      "text/plain": [
       "{'front': None, 'split1': 'GACGT', 'divided': '/', 'split2': 'C', 'back': None}"
      ]
     },
     "execution_count": 236,
     "metadata": {},
     "output_type": "execute_result"
    }
   ],
   "source": [
    "# test out regexs for NEB enzyme patterns\n",
    "# reg_pattern = r'(?P<front>\\([\\-\\d/]*\\))*(?P<split1>[ACGTURYKMSWBDHVN]*)(?P<divided>[/])*(?P<split2>[ACGTURYKMSWBDHVN]*)(?P<back>\\([\\-\\d/]*\\))*\\s+(?P<name>[\\d\\w]+)'\n",
    "reg_pattern = r'(?P<front>\\([\\-\\d/]*\\))*(?P<split1>[ACGTURYKMSWBDHVN]*)(?P<divided>[/])*(?P<split2>[ACGTURYKMSWBDHVN]*)(?P<back>\\([\\-\\d/]*\\))*'\n",
    "print(reg_pattern)\n",
    "# m = re.match(reg_pattern, '(10/12)CGANNNNNNTGC(12/10)   BcgI')\n",
    "m = re.match(reg_pattern, 'GACGT/C')\n",
    "m.groupdict()"
   ]
  },
  {
   "cell_type": "code",
   "execution_count": 161,
   "metadata": {},
   "outputs": [],
   "source": [
    "enzymes = {}\n",
    "\n",
    "for line in open(\"restriction_table_full_clean.csv\"):\n",
    "    sp = line.split(\",\")\n",
    "    m = re.match(reg_pattern, sp[1])\n",
    "    enzymes[sp[0]] = [m.groupdict(),sp[0],sp[3],sp[4],sp[5],sp[6],sp[7],sp[8]]"
   ]
  },
  {
   "cell_type": "code",
   "execution_count": 164,
   "metadata": {},
   "outputs": [
    {
     "data": {
      "text/plain": [
       "[{'front': None,\n",
       "  'split1': 'A',\n",
       "  'divided': '/',\n",
       "  'split2': 'CCGGT',\n",
       "  'back': None},\n",
       " 'AgeI-HF',\n",
       " '100',\n",
       " '50',\n",
       " '10',\n",
       " '100',\n",
       " '65C',\n",
       " '37C']"
      ]
     },
     "execution_count": 164,
     "metadata": {},
     "output_type": "execute_result"
    }
   ],
   "source": [
    "enzymes['AgeI-HF']"
   ]
  },
  {
   "cell_type": "code",
   "execution_count": 230,
   "metadata": {},
   "outputs": [
    {
     "data": {
      "text/plain": [
       "True"
      ]
     },
     "execution_count": 230,
     "metadata": {},
     "output_type": "execute_result"
    }
   ],
   "source": [
    "import math\n",
    "\n",
    "fasta_mapping = {'A': 'A','C': 'C','G': 'G','T': 'T','U': 'T','R': '[AG]','Y': '[CT]','K': '[GT]','M': '[AC]','S': '[CG]',\n",
    "                'W': '[AT]','B': '[CGT]','D': '[AGT]','H': '[ACT]','V': '[ACG]','N': '[ACGT]'}\n",
    "\n",
    "def RepresentsInt(s):\n",
    "    try: \n",
    "        int(s)\n",
    "        return True\n",
    "    except ValueError:\n",
    "        return False\n",
    "    \n",
    "class REnzyme:\n",
    "    def __init__(self,mapping,name,buf11,buf21,buf31,cutsmart,inactivate,incubate):\n",
    "        self.name = name.replace('-','_').replace('.','_')\n",
    "        self.buffers = [buf11,buf21,buf31,cutsmart]\n",
    "        self.temps = [incubate,inactivate]\n",
    "        if mapping['divided'] == None:\n",
    "            self.sequence = mapping['split1']\n",
    "            self.cutsite_offset = 0\n",
    "        else:\n",
    "            self.sequence = mapping['split1'] + mapping['split2']\n",
    "            self.cutsite_offset = len(mapping['split1'])\n",
    "            \n",
    "        self.upstream_tag = mapping['front']\n",
    "        self.downstream_tag = mapping['back']\n",
    "        self.regex_seq = re.compile(REnzyme.create_re(self.name,self.sequence))\n",
    "        self.istypetwo = mapping['front'] != None or mapping['back'] != None\n",
    "        #print(self.regex_seq)\n",
    "    def create_re(name,sequence):\n",
    "        return('(?P<' + name + '>'+ \"\".join([fasta_mapping[x] for x in sequence]) + ')')\n",
    "    def overhang_length(self):\n",
    "        return float(self.cutsite_offset) - (float(len(self.sequence))/2.0)\n",
    "    def ideal(self):\n",
    "        real_buffers = [int(x) if RepresentsInt(x) else 0 for x in self.buffers]\n",
    "        working_temp_ok = self.temps[0] == '37C'\n",
    "        inactive = self.temps[1] != 'No'\n",
    "        return(real_buffers[3] > 90 and working_temp_ok and inactive)\n",
    "    def type_two_s(self):\n",
    "        return(self.istypetwo)\n",
    "enz = REnzyme(enzymes['AgeI-HF'][0],'AgeI-HF','100','50','10','100','65C','37C')\n",
    "m = re.findall(enz.regex_seq, 'GGAACCGGATCCGGAACC')\n",
    "m\n",
    "enz.overhang_length()\n",
    "enz.ideal()"
   ]
  },
  {
   "cell_type": "code",
   "execution_count": 231,
   "metadata": {},
   "outputs": [],
   "source": [
    "all_enzymes = {}\n",
    "for enz,mping in enzymes.items():\n",
    "    all_enzymes[enz] = REnzyme(mping[0],mping[1],mping[2],mping[3],mping[4],mping[5],mping[6],mping[7])"
   ]
  },
  {
   "cell_type": "code",
   "execution_count": 174,
   "metadata": {},
   "outputs": [
    {
     "name": "stdout",
     "output_type": "stream",
     "text": [
      "0\n",
      "1000\n",
      "2000\n",
      "3000\n",
      "4000\n",
      "5000\n",
      "6000\n",
      "7000\n",
      "8000\n",
      "9000\n",
      "10000\n",
      "11000\n",
      "12000\n",
      "13000\n",
      "14000\n",
      "15000\n",
      "16000\n",
      "17000\n",
      "18000\n",
      "19000\n",
      "20000\n",
      "21000\n",
      "22000\n",
      "23000\n",
      "24000\n",
      "25000\n",
      "26000\n",
      "27000\n",
      "28000\n",
      "29000\n",
      "30000\n",
      "31000\n",
      "32000\n",
      "33000\n",
      "34000\n",
      "35000\n",
      "36000\n",
      "37000\n",
      "38000\n",
      "39000\n",
      "40000\n",
      "41000\n",
      "42000\n",
      "43000\n",
      "44000\n",
      "45000\n",
      "46000\n",
      "47000\n",
      "48000\n",
      "49000\n",
      "50000\n",
      "51000\n",
      "52000\n",
      "53000\n",
      "54000\n",
      "55000\n",
      "56000\n",
      "57000\n",
      "58000\n",
      "59000\n",
      "60000\n",
      "61000\n",
      "62000\n",
      "63000\n"
     ]
    }
   ],
   "source": [
    "# for each sequence in the input, for each restriction enzyme, figure out how many matches we have\n",
    "\n",
    "header = training_data.readline()\n",
    "total_enzyme_counts = {}\n",
    "total_enzyme_counts_per = {}\n",
    "enzymes_to_sequences = {}\n",
    "all_sequences = []\n",
    "training_data = open(\"train_values.csv\")\n",
    "for index,line in enumerate(training_data):\n",
    "    sp = line.split(\",\")\n",
    "    if index % 10000 == 0:\n",
    "        print(index)\n",
    "    sequence = sp[1]\n",
    "    sequence_name = sp[0]\n",
    "    all_sequences.append(sequence_name)\n",
    "    if len(sequence) > 2000:\n",
    "        for enz_name, enz in all_enzymes.items():\n",
    "            count = len(re.findall(enz.regex_seq, line))\n",
    "            total_enzyme_counts[enz_name] = total_enzyme_counts.get(enz_name,0) + count\n",
    "            total_enzyme_counts_per.setdefault(enz_name,list()).append(count)\n",
    "            if count == 1 or count == 2:\n",
    "                enzymes_to_sequences.setdefault(enz_name,list()).append(sequence_name)"
   ]
  },
  {
   "cell_type": "code",
   "execution_count": 199,
   "metadata": {},
   "outputs": [
    {
     "data": {
      "text/plain": [
       "284"
      ]
     },
     "execution_count": 199,
     "metadata": {},
     "output_type": "execute_result"
    }
   ],
   "source": [
    "len(all_enzymes)"
   ]
  },
  {
   "cell_type": "code",
   "execution_count": 177,
   "metadata": {},
   "outputs": [],
   "source": [
    "import statistics "
   ]
  },
  {
   "cell_type": "code",
   "execution_count": 232,
   "metadata": {},
   "outputs": [
    {
     "name": "stdout",
     "output_type": "stream",
     "text": [
      "AflII 0.6756482274905583 median 1 set size 16167\n",
      "AgeI-HF 0.4435716779332889 median 0 set size 16404\n",
      "AscI 0.17195087117966296 median 0 set size 7782\n",
      "AsiSI 0.1263607223333016 median 0 set size 7066\n",
      "BclI-HF 0.905106477514361 median 1 set size 17983\n",
      "BmtI-HF 0.5033482497064331 median 1 set size 20092\n",
      "BspDI 0.593243200355454 median 1 set size 18559\n",
      "BsrGI-HF 0.8606905963375544 median 1 set size 18334\n",
      "Bsu36I 0.5141070805166778 median 0 set size 13399\n",
      "ClaI 0.593243200355454 median 1 set size 18559\n",
      "EcoRI-HF 0.845710749309721 median 1 set size 24022\n",
      "FseI 0.20573486940239297 median 0 set size 9148\n",
      "HindIII-HF 1.339426830429401 median 1 set size 20480\n",
      "KasI 1.3792725887841568 median 1 set size 16115\n",
      "NarI 1.3792725887841568 median 1 set size 16115\n",
      "Nb.BbvCI 0.2725094417468025 median 0 set size 10932\n",
      "NdeI 0.9950014281633819 median 1 set size 24625\n",
      "NheI-HF 0.5033482497064331 median 1 set size 20092\n",
      "NotI-HF 0.5419721349455711 median 1 set size 23919\n",
      "NsiI-HF 0.7811260274842109 median 1 set size 16119\n",
      "PacI 0.14449839728331587 median 0 set size 6952\n",
      "PluTI 1.3792725887841568 median 1 set size 16115\n",
      "PspOMI 0.82793804944619 median 1 set size 24335\n",
      "RsrII 0.3476149671522422 median 0 set size 16954\n",
      "SacI-HF 1.184836078580723 median 1 set size 19249\n",
      "SacII 0.7735567615601892 median 1 set size 16842\n",
      "SalI-HF 0.7478339522041322 median 1 set size 22392\n",
      "SbfIʤ 0.23096575581579867 median 0 set size 10617\n",
      "SbfI-HF 0.23096575581579867 median 0 set size 10617\n",
      "SexAI 0.5265955758672125 median 1 set size 17980\n",
      "SgrAI 0.28368085308959345 median 0 set size 12654\n",
      "SpeIʤ 0.45504459043447903 median 0 set size 18663\n",
      "SpeI-HF 0.45504459043447903 median 0 set size 18663\n",
      "SphI-HF 0.9762924878606113 median 1 set size 18944\n",
      "XbaI 0.7562442476752674 median 1 set size 26130\n",
      "XhoI 0.7287600368148783 median 1 set size 26215\n",
      "XmaI 0.823177504839887 median 1 set size 20192\n",
      "37\n"
     ]
    }
   ],
   "source": [
    "enzymes_to_use = {}\n",
    "min_overhang = 1\n",
    "max_overhang = 2\n",
    "\n",
    "for enz,count in total_enzyme_counts.items():\n",
    "    med = statistics.median(total_enzyme_counts_per[enz])\n",
    "    if enz in enzymes_to_sequences:\n",
    "        min_over_check = (all_enzymes[enz].overhang_length() <= (-1 * min_overhang) or all_enzymes[enz].overhang_length() >= min_overhang)\n",
    "        max_over_check = (all_enzymes[enz].overhang_length() >= (-1 * max_overhang) or all_enzymes[enz].overhang_length() <= max_overhang)\n",
    "        if med <= 1 and max_over_check and min_over_check and all_enzymes[enz].ideal() and not all_enzymes[enz].type_two_s():\n",
    "            print(enz + \" \" + str(count/63018) + \" median \" + str(med) + \" set size \" + str(len(enzymes_to_sequences[enz])))\n",
    "            enzymes_to_use[enz] = set(enzymes_to_sequences[enz])\n",
    "        \n",
    "print(len(enzymes_to_use))"
   ]
  },
  {
   "cell_type": "code",
   "execution_count": 233,
   "metadata": {},
   "outputs": [
    {
     "name": "stdout",
     "output_type": "stream",
     "text": [
      "0\n",
      "10000\n",
      "20000\n",
      "30000\n",
      "40000\n",
      "50000\n",
      "60000\n",
      "40335\n"
     ]
    }
   ],
   "source": [
    "# for the set coverage, we need to know what sequences have ANY coverage by the enzymes we're going to use\n",
    "training_data = open(\"train_values.csv\")\n",
    "covered_seqs = []\n",
    "for index,line in enumerate(training_data):\n",
    "    sp = line.split(\",\")\n",
    "    if index % 10000 == 0:\n",
    "        print(index)\n",
    "    sequence = sp[1]\n",
    "    sequence_name = sp[0]\n",
    "    if len(sequence) > 2000:\n",
    "        covered = False\n",
    "        for enz_name, enz in all_enzymes.items():\n",
    "            if enz_name in enzymes_to_use:\n",
    "                count = len(re.findall(enz.regex_seq, line))\n",
    "                if count > 0:\n",
    "                    covered = True\n",
    "        if covered:\n",
    "            covered_seqs.append(sequence_name)\n",
    "print(len(covered_seqs))"
   ]
  },
  {
   "cell_type": "code",
   "execution_count": 240,
   "metadata": {},
   "outputs": [
    {
     "name": "stdout",
     "output_type": "stream",
     "text": [
      "40335\n",
      "26215 26215 26215\n",
      "24022 8631 34846\n",
      "26130 3087 37933\n",
      "20092 1175 39108\n",
      "17983 540 39648\n",
      "24625 334 39982\n",
      "19249 162 40144\n",
      "18334 85 40229\n",
      "16115 39 40268\n",
      "18663 25 40293\n",
      "16842 14 40307\n",
      "16119 11 40318\n",
      "16167 5 40323\n",
      "23919 5 40328\n",
      "16954 3 40331\n",
      "18559 2 40333\n",
      "13399 1 40334\n",
      "18944 1 40335\n",
      "['XhoI', 'EcoRI-HF', 'XbaI', 'BmtI-HF', 'BclI-HF', 'NdeI', 'SacI-HF', 'BsrGI-HF', 'KasI', 'SpeIʤ', 'SacII', 'NsiI-HF', 'AflII', 'NotI-HF', 'RsrII', 'BspDI', 'Bsu36I', 'SphI-HF']\n"
     ]
    }
   ],
   "source": [
    "import operator\n",
    "# greedy set cover adapted from: http://www.martinbroadhurst.com/greedy-set-cover-in-python.html\n",
    "def set_cover(universe, subsets):\n",
    "    \"\"\"Find a family of subsets that covers the universal set\"\"\"\n",
    "    elements = set(e for s in subsets.values() for e in s)\n",
    "    print(len(elements))\n",
    "    # Check the subsets cover the universe\n",
    "    if elements != universe:\n",
    "        print(\"No cover\")\n",
    "        return None\n",
    "    covered = set()\n",
    "    cover = []\n",
    "    covering = []\n",
    "    # Greedily add the subsets with the most uncovered points\n",
    "    while covered != elements:\n",
    "        subset = max(subsets.items(), key=lambda s: len(s[1] - covered))\n",
    "        cover.append(subset[1])\n",
    "        added_coverage = str(len(subset[1] - covered))\n",
    "        covering.append(subset[0])\n",
    "        covered |= subset[1]\n",
    "        print(str(len(subset[1])) + \" \" + added_coverage + \" \" + str(len(covered)))\n",
    "\n",
    "    return (cover,covering)\n",
    "\n",
    "universe = set(covered_seqs)\n",
    "cover = set_cover(universe, enzymes_to_use)\n",
    "print(cover[1])"
   ]
  },
  {
   "cell_type": "code",
   "execution_count": 239,
   "metadata": {},
   "outputs": [
    {
     "name": "stdout",
     "output_type": "stream",
     "text": [
      "CTCGAG     XhoI       -4.0\n",
      "GAATTC     EcoRI-HF   -4.0\n",
      "TCTAGA     XbaI       -4.0\n",
      "GCTAGC     BmtI-HF    4.0\n",
      "TGATCA     BclI-HF    -4.0\n",
      "CATATG     NdeI       -2.0\n",
      "GAGCTC     SacI-HF    4.0\n",
      "TGTACA     BsrGI-HF   -4.0\n",
      "GGCGCC     KasI       -4.0\n",
      "ACTAGT     SpeIʤ      -4.0\n",
      "CCGCGG     SacII      2.0\n",
      "ATGCAT     NsiI-HF    4.0\n",
      "CTTAAG     AflII      -4.0\n",
      "GCGGCCGC   NotI-HF    -4.0\n",
      "CGGWCCG    RsrII      -3.0\n",
      "ATCGAT     BspDI      -2.0\n",
      "CCTNAGG    Bsu36I     -3.0\n",
      "GCATGC     SphI-HF    4.0\n",
      "112\n",
      "CTCGAGGAATTCTCTAGAGCTAGCTGATCACATATGGAGCTCTGTACAGGCGCCACTAGTCCGCGGATGCATCTTAAGGCGGCCGCCGGWCCGATCGATCCTNAGGGCATGC\n"
     ]
    }
   ],
   "source": [
    "full_set = \"\"\n",
    "for enzyme in cover[1]:\n",
    "    print(all_enzymes[enzyme].sequence.ljust(10) + \" \" + enzyme.ljust(10) + \" \" + str(all_enzymes[enzyme].overhang_length()*2))\n",
    "    full_set += all_enzymes[enzyme].sequence\n",
    "print(len(full_set))\n",
    "print(full_set)"
   ]
  },
  {
   "cell_type": "code",
   "execution_count": 248,
   "metadata": {},
   "outputs": [
    {
     "name": "stdout",
     "output_type": "stream",
     "text": [
      "GTCGGATACTACATTCGGAA\n"
     ]
    }
   ],
   "source": [
    "import random\n",
    "bases = ['A','C','G','T']\n",
    "primer = \"\".join(random.choices(bases, k=20))\n",
    "print(primer)"
   ]
  },
  {
   "cell_type": "raw",
   "metadata": {},
   "source": [
    "for sequence choices:\n",
    "https://github.com/finkelsteinlab/freebarcodes/blob/master/barcodes/barcodes10-2.txt\n",
    "\n",
    "use the first A**** with the first C***** with the first G*****"
   ]
  }
 ],
 "metadata": {
  "kernelspec": {
   "display_name": "Python 3",
   "language": "python",
   "name": "python3"
  },
  "language_info": {
   "codemirror_mode": {
    "name": "ipython",
    "version": 3
   },
   "file_extension": ".py",
   "mimetype": "text/x-python",
   "name": "python",
   "nbconvert_exporter": "python",
   "pygments_lexer": "ipython3",
   "version": "3.6.10"
  }
 },
 "nbformat": 4,
 "nbformat_minor": 4
}
