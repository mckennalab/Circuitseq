{
 "cells": [
  {
   "cell_type": "code",
   "execution_count": 23,
   "id": "c7280314-12c5-426b-811b-14e6a529cad5",
   "metadata": {},
   "outputs": [],
   "source": [
    "import subprocess\n",
    "\n",
    "plasmids_file = open(\"../../fex_117_sample_sheet.tsv\")\n",
    "header = plasmids_file.readline()\n",
    "\n",
    "def get_plasmid_length(fl):\n",
    "    pl_fl = open(fl)\n",
    "    header = pl_fl.readline()\n",
    "    total = \"\"\n",
    "    for line in pl_fl:\n",
    "        total += line.strip()\n",
    "    piggy = \"CCCTAGAAAGATAATCATATTGTGACGT\" in total.upper()\n",
    "    lenti = \"CTGGGAGCTCTCTGGCTAACTAGGGAA\" in total.upper()\n",
    "    ptype = \"NONE\"\n",
    "    if piggy:\n",
    "        ptype = \"PIGGY\"\n",
    "    elif lenti:\n",
    "        ptype = \"LENTI\"\n",
    "    return((len(total),piggy,lenti,ptype))\n",
    "\n",
    "def mummer_repeat_sizes(plasmid):\n",
    "    command_array = [\"/analysis/2021_08_26_PlasmidSeq_paper/repeats/MUMmer3.23/repeat-match\",\"-E\",plasmid]\n",
    "    # print(\" \".join(command_array))\n",
    "    process = subprocess.run(command_array,capture_output=True,text=True)\n",
    "    lines = process.stdout.split(\"\\n\")\n",
    "    size = 0\n",
    "    count = 0\n",
    "    largest = 0\n",
    "    \n",
    "    for line in lines[2:len(lines)]:\n",
    "        if len(line.split()) < 3:\n",
    "            # print(\"LN:\" + str(line))\n",
    "            count += 0\n",
    "        else:\n",
    "            sz = int(line.split()[2])\n",
    "            size += sz\n",
    "            count += 1\n",
    "            if sz > largest:\n",
    "                largest = sz\n",
    "    return((size,count,largest))\n",
    "\n",
    "output = open(\"2021_12_13_repeat_content.txt\",\"w\")\n",
    "output.write(\"sample\\tname\\tlength\\tpiggyBac\\tlentiVirus\\tptype\\trepeatTotal\\trepeatCount\\trepeatLargest\\tunrepeatProp\\n\")\n",
    "for line in plasmids_file:\n",
    "    plasmid_map  = \"../../\" + line.strip().split(\"\\t\")[2]\n",
    "    sample  = line.strip().split(\"\\t\")[0]\n",
    "    sample_name  = line.strip().split(\"\\t\")[1]\n",
    "    length  = get_plasmid_length(plasmid_map)\n",
    "    repeats = mummer_repeat_sizes(plasmid_map)\n",
    "    output.write(sample + \"\\t\" + sample_name + \"\\t\" + str(length[0]) + \"\\t\" + str(length[1]) + \"\\t\" + str(length[2]) + \"\\t\" + str(length[3]) + \"\\t\" + str(repeats[0]) + \"\\t\" + str(repeats[1]) + \"\\t\" + str(repeats[2]) + \"\\t\" + str((length[0]-repeats[0])/length[0]) + \"\\n\")\n",
    "output.close()"
   ]
  },
  {
   "cell_type": "code",
   "execution_count": null,
   "id": "d1c714d7-c328-4e1f-bd46-26ada80fc1ef",
   "metadata": {},
   "outputs": [],
   "source": []
  }
 ],
 "metadata": {
  "kernelspec": {
   "display_name": "Python 3 (ipykernel)",
   "language": "python",
   "name": "python3"
  },
  "language_info": {
   "codemirror_mode": {
    "name": "ipython",
    "version": 3
   },
   "file_extension": ".py",
   "mimetype": "text/x-python",
   "name": "python",
   "nbconvert_exporter": "python",
   "pygments_lexer": "ipython3",
   "version": "3.9.5"
  }
 },
 "nbformat": 4,
 "nbformat_minor": 5
}
